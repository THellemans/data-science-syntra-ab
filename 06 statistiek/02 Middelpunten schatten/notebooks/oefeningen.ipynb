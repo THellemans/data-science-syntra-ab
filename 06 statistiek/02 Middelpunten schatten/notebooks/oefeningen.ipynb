{
 "cells": [
  {
   "cell_type": "code",
   "execution_count": 4,
   "id": "85f14e3d",
   "metadata": {},
   "outputs": [],
   "source": [
    "import pandas as pd\n",
    "import numpy as np\n",
    "import os"
   ]
  },
  {
   "cell_type": "markdown",
   "id": "4a08abac",
   "metadata": {},
   "source": [
    "## Location files"
   ]
  },
  {
   "cell_type": "code",
   "execution_count": 5,
   "id": "a7e522dc",
   "metadata": {},
   "outputs": [],
   "source": [
    "loc_files = os.path.join('..', 'data')\n",
    "loc_file_titanic = os.path.join(loc_files, 'titanic.xlsx')"
   ]
  },
  {
   "cell_type": "markdown",
   "id": "7070c4f2",
   "metadata": {},
   "source": [
    "## Read data"
   ]
  },
  {
   "cell_type": "code",
   "execution_count": 6,
   "id": "a8a831d7",
   "metadata": {},
   "outputs": [],
   "source": [
    "df_titanic = pd.read_excel(loc_file_titanic, sheet_name=\"train_minimal\")"
   ]
  },
  {
   "cell_type": "markdown",
   "id": "96f21d4b",
   "metadata": {},
   "source": [
    "## Oefening 1: gemiddelde berekenen"
   ]
  },
  {
   "cell_type": "code",
   "execution_count": 7,
   "id": "6c532b6e",
   "metadata": {},
   "outputs": [],
   "source": [
    "def compute_mean(x):\n",
    "    \n",
    "    n = len(x)\n",
    "    total_sum = sum(x)\n",
    "    return total_sum / n"
   ]
  },
  {
   "cell_type": "code",
   "execution_count": 13,
   "id": "fe94ddb7",
   "metadata": {},
   "outputs": [
    {
     "name": "stdout",
     "output_type": "stream",
     "text": [
      "True\n"
     ]
    }
   ],
   "source": [
    "mean_fare = compute_mean(df_titanic['Fare'])\n",
    "mean_fare_check = df_titanic['Fare'].mean()\n",
    "print(np.abs(mean_fare - mean_fare_check) < 10 ** (-8))"
   ]
  },
  {
   "cell_type": "code",
   "execution_count": 15,
   "id": "41e79877",
   "metadata": {},
   "outputs": [
    {
     "name": "stdout",
     "output_type": "stream",
     "text": [
      "True\n"
     ]
    }
   ],
   "source": [
    "prob_survived = compute_mean(df_titanic['Survived'])\n",
    "prob_survived_check = df_titanic['Survived'].mean()\n",
    "print(np.abs(prob_survived - prob_survived_check) < 10 ** (-8))"
   ]
  },
  {
   "cell_type": "code",
   "execution_count": 18,
   "id": "6302b859",
   "metadata": {},
   "outputs": [
    {
     "data": {
      "text/plain": [
       "0.3838383838383838"
      ]
     },
     "execution_count": 18,
     "metadata": {},
     "output_type": "execute_result"
    }
   ],
   "source": [
    "prob_survived_check"
   ]
  },
  {
   "cell_type": "code",
   "execution_count": null,
   "id": "0545d973",
   "metadata": {},
   "outputs": [],
   "source": []
  }
 ],
 "metadata": {
  "kernelspec": {
   "display_name": "Python 3 (ipykernel)",
   "language": "python",
   "name": "python3"
  },
  "language_info": {
   "codemirror_mode": {
    "name": "ipython",
    "version": 3
   },
   "file_extension": ".py",
   "mimetype": "text/x-python",
   "name": "python",
   "nbconvert_exporter": "python",
   "pygments_lexer": "ipython3",
   "version": "3.9.13"
  }
 },
 "nbformat": 4,
 "nbformat_minor": 5
}
