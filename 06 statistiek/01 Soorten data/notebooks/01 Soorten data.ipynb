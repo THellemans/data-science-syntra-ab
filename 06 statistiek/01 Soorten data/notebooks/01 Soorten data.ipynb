{
 "cells": [
  {
   "cell_type": "markdown",
   "metadata": {},
   "source": [
    "## Importing libraries"
   ]
  },
  {
   "cell_type": "code",
   "execution_count": 3,
   "metadata": {},
   "outputs": [],
   "source": [
    "import pandas as pd\n",
    "import numpy as np\n",
    "import os"
   ]
  },
  {
   "cell_type": "markdown",
   "metadata": {},
   "source": [
    "## Location of files"
   ]
  },
  {
   "cell_type": "code",
   "execution_count": 4,
   "metadata": {},
   "outputs": [],
   "source": [
    "loc_files = os.path.join('..', 'data')\n",
    "loc_file_titanic = os.path.join(loc_files, 'titanic.xlsx')"
   ]
  },
  {
   "cell_type": "markdown",
   "metadata": {},
   "source": [
    "## Import titanic and adjust data types"
   ]
  },
  {
   "cell_type": "code",
   "execution_count": 5,
   "metadata": {},
   "outputs": [],
   "source": [
    "# Import dataset\n",
    "df_titanic = pd.read_excel(loc_file_titanic, sheet_name=\"train_minimal\")"
   ]
  },
  {
   "cell_type": "code",
   "execution_count": 12,
   "metadata": {},
   "outputs": [],
   "source": [
    "# Import dataset\n",
    "df_titanic = pd.read_excel(loc_file_titanic, sheet_name=\"train_minimal\")\n",
    "\n",
    "# Fill NaN values in age by the average age\n",
    "idxs_no_age = df_titanic['Age'].isnull()\n",
    "df_titanic.loc[idxs_no_age, 'Age'] = np.round(df_titanic['Age'].mean())\n",
    "\n",
    "# Convert data types #\n",
    "convert_dict_titanic = {\n",
    "    'PassengerId' : 'category',\n",
    "    'Sex' : 'category',\n",
    "    'Age' : int,\n",
    "    'Embarked' : 'category',\n",
    "    'Survived' : 'category'\n",
    "}\n",
    "\n",
    "df_titanic = df_titanic.astype(convert_dict_titanic)\n",
    "\n",
    "Pclasses = sorted(list(set(df_titanic['Pclass'])), reverse = True)\n",
    "df_titanic['Pclass'] = pd.Categorical(df_titanic['Pclass'],\n",
    "                                        ordered = True,\n",
    "                                        categories = Pclasses) # 3 < 2 < 1"
   ]
  },
  {
   "cell_type": "code",
   "execution_count": 20,
   "metadata": {},
   "outputs": [
    {
     "data": {
      "text/plain": [
       "CategoricalDtype(categories=['female', 'male'], ordered=False)"
      ]
     },
     "execution_count": 20,
     "metadata": {},
     "output_type": "execute_result"
    }
   ],
   "source": [
    "df_titanic.Sex.dtype"
   ]
  },
  {
   "cell_type": "code",
   "execution_count": null,
   "metadata": {},
   "outputs": [],
   "source": []
  }
 ],
 "metadata": {
  "kernelspec": {
   "display_name": "Python 3 (ipykernel)",
   "language": "python",
   "name": "python3"
  },
  "language_info": {
   "codemirror_mode": {
    "name": "ipython",
    "version": 3
   },
   "file_extension": ".py",
   "mimetype": "text/x-python",
   "name": "python",
   "nbconvert_exporter": "python",
   "pygments_lexer": "ipython3",
   "version": "3.9.13"
  }
 },
 "nbformat": 4,
 "nbformat_minor": 2
}
