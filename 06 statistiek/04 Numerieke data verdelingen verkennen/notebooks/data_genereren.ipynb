{
 "cells": [
  {
   "cell_type": "code",
   "execution_count": 102,
   "metadata": {},
   "outputs": [],
   "source": [
    "import pandas as pd\n",
    "import numpy as np\n",
    "import matplotlib.pyplot as plt\n",
    "import random\n",
    "import os"
   ]
  },
  {
   "attachments": {},
   "cell_type": "markdown",
   "metadata": {},
   "source": [
    "## Define locations"
   ]
  },
  {
   "cell_type": "code",
   "execution_count": 103,
   "metadata": {},
   "outputs": [],
   "source": [
    "loc_output = os.path.join('..', 'data', 'generated_forecasts.xlsx')"
   ]
  },
  {
   "attachments": {},
   "cell_type": "markdown",
   "metadata": {},
   "source": [
    "## Define some general functions"
   ]
  },
  {
   "cell_type": "code",
   "execution_count": 97,
   "metadata": {},
   "outputs": [],
   "source": [
    "def create_demand(quarters, seasonality, season_speed, trendline, noise):\n",
    "\n",
    "    demand = seasonality * np.sin(quarters * season_speed) \\\n",
    "                + trendline * quarters\\\n",
    "                + noise * np.random.normal(size = (len(quarters)))\n",
    "    return np.maximum(0, np.round(demand).astype(int))\n",
    "\n",
    "def generate_forecasts(value, quarters_ahead, noise):\n",
    "\n",
    "    return np.maximum(0, np.round(value + noise * np.random.normal(size = (quarters_ahead))).astype(int) )"
   ]
  },
  {
   "attachments": {},
   "cell_type": "markdown",
   "metadata": {},
   "source": [
    "## Select some parameters"
   ]
  },
  {
   "cell_type": "code",
   "execution_count": 98,
   "metadata": {},
   "outputs": [],
   "source": [
    "quarters = np.arange(1, 21, step = 1)\n",
    "quarters_ahead = 6\n",
    "seasonality = 15\n",
    "season_speed = 1/2\n",
    "trendline = 5\n",
    "noise = 15\n",
    "noise_forecasts = 10"
   ]
  },
  {
   "attachments": {},
   "cell_type": "markdown",
   "metadata": {},
   "source": [
    "## Generate actuals & forecasts"
   ]
  },
  {
   "cell_type": "code",
   "execution_count": 99,
   "metadata": {},
   "outputs": [],
   "source": [
    "# Step 1: generate actual sales\n",
    "actuals = create_demand(quarters, seasonality, season_speed, trendline, noise)\n",
    "\n",
    "# Step 2: generate forecasts and put everything together\n",
    "dfs = list()\n",
    "for quarter, actual in zip(quarters, actuals):\n",
    "    num_forecasts = min(quarters_ahead, quarter)\n",
    "    forecasts = generate_forecasts(actual, num_forecasts - 1, noise_forecasts)\n",
    "    forecasts = np.append(forecasts, actual)\n",
    "    \n",
    "    dfs.append(pd.DataFrame({\n",
    "        'quarter' : np.arange(quarter - num_forecasts + 1, quarter + 1),\n",
    "        'quarter_forecasted' : quarter,\n",
    "        'forecast' : forecasts\n",
    "    }))\n",
    "\n",
    "\n",
    "df = pd.concat(dfs).sort_values(['quarter', 'quarter_forecasted'])"
   ]
  },
  {
   "attachments": {},
   "cell_type": "markdown",
   "metadata": {},
   "source": [
    "## Save actuals to a file"
   ]
  },
  {
   "cell_type": "code",
   "execution_count": 104,
   "metadata": {},
   "outputs": [],
   "source": [
    "df.to_excel(loc_output, index = False)"
   ]
  },
  {
   "cell_type": "code",
   "execution_count": 105,
   "metadata": {},
   "outputs": [
    {
     "data": {
      "text/plain": [
       "'..\\\\data\\\\generated_forecasts.xlsx'"
      ]
     },
     "execution_count": 105,
     "metadata": {},
     "output_type": "execute_result"
    }
   ],
   "source": [
    "loc_output"
   ]
  },
  {
   "attachments": {},
   "cell_type": "markdown",
   "metadata": {},
   "source": []
  },
  {
   "attachments": {},
   "cell_type": "markdown",
   "metadata": {},
   "source": []
  }
 ],
 "metadata": {
  "kernelspec": {
   "display_name": "base",
   "language": "python",
   "name": "python3"
  },
  "language_info": {
   "codemirror_mode": {
    "name": "ipython",
    "version": 3
   },
   "file_extension": ".py",
   "mimetype": "text/x-python",
   "name": "python",
   "nbconvert_exporter": "python",
   "pygments_lexer": "ipython3",
   "version": "3.9.13"
  },
  "orig_nbformat": 4
 },
 "nbformat": 4,
 "nbformat_minor": 2
}
